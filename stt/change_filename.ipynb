{
 "cells": [
  {
   "cell_type": "code",
   "execution_count": 4,
   "metadata": {},
   "outputs": [],
   "source": [
    "# -*- coding: utf-8 -*- \n",
    "import sys\n",
    "from os import rename, listdir\n",
    "import os\n",
    "import re"
   ]
  },
  {
   "cell_type": "code",
   "execution_count": 9,
   "metadata": {},
   "outputs": [],
   "source": [
    "# -*- coding: utf-8 -*- \n",
    "import sys\n",
    "from os import rename, listdir\n",
    "import os\n",
    "import re\n",
    "\n",
    "def change_filename():\n",
    "    file_list=[]\n",
    "    for i in range(len(os.listdir(\".\"))):\n",
    "        filename=os.listdir(\".\")[i]\n",
    "        if filename.endswith(\"wav\"): #wav파일인것만 뽑아서\n",
    "            file_list.append(filename)\n",
    "    file_list #wav파일만 뽑아서 만들기\n",
    "\n",
    "    sorted_file_list = sorted(file_list,key=lambda integer: int(re.findall('\\d+',integer)[0])) #정렬\n",
    "    #파일명에서 숫자뭉치가 2개면 [1] , 1개면 [0]\n",
    "\n",
    "    j=1\n",
    "    t=1 #폴더마다 얘만 다르게 해주면 됨\n",
    "    for file_name in sorted_file_list:\n",
    "        if j>=1 and j<10:\n",
    "            new_filename=file_name.replace(file_name.split('.')[0],\"LJ00\"+str(t)+\"-000\"+str(j))\n",
    "        elif j>=10 and j<100 :\n",
    "            new_filename=file_name.replace(file_name.split('.')[0],\"LJ00\"+str(t)+\"-00\"+str(j))\n",
    "        else :\n",
    "            new_filename=file_name.replace(file_name.split('.')[0],\"LJ00\"+str(t)+\"-0\"+str(j))\n",
    "        os.rename(file_name,new_filename)\n",
    "        j=j+1"
   ]
  },
  {
   "cell_type": "code",
   "execution_count": 10,
   "metadata": {},
   "outputs": [],
   "source": [
    "change_filename()"
   ]
  }
 ],
 "metadata": {
  "kernelspec": {
   "display_name": "Python 3",
   "language": "python",
   "name": "python3"
  },
  "language_info": {
   "codemirror_mode": {
    "name": "ipython",
    "version": 3
   },
   "file_extension": ".py",
   "mimetype": "text/x-python",
   "name": "python",
   "nbconvert_exporter": "python",
   "pygments_lexer": "ipython3",
   "version": "3.6.5"
  }
 },
 "nbformat": 4,
 "nbformat_minor": 2
}
