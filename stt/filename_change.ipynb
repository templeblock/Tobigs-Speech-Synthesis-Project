{
 "cells": [
  {
   "cell_type": "code",
   "execution_count": null,
   "metadata": {},
   "outputs": [],
   "source": [
    "f = open(\"/home/jeon/Desktop/audio_project/Tacotron-2/LJSpeech-1.1/korean-single-speaker-speech-dataset/transcript.txt\",'r')\n",
    "data = f.readlines()\n",
    "f.close()"
   ]
  },
  {
   "cell_type": "code",
   "execution_count": null,
   "metadata": {},
   "outputs": [],
   "source": [
    "data = data[:999]"
   ]
  },
  {
   "cell_type": "code",
   "execution_count": null,
   "metadata": {},
   "outputs": [],
   "source": [
    "data[0].replace(data[0].strip().split('|')[0],\"LJ001-0001.wav\")"
   ]
  },
  {
   "cell_type": "code",
   "execution_count": null,
   "metadata": {},
   "outputs": [],
   "source": [
    "for data_sentence in data:\n",
    "    print(data_sentence)"
   ]
  },
  {
   "cell_type": "code",
   "execution_count": null,
   "metadata": {},
   "outputs": [],
   "source": [
    "j=1\n",
    "t=1 #폴더마다 얘만 다르게 해주면 됨\n",
    "for i in range(len(data)):\n",
    "    if j>=1 and j<10:\n",
    "        data[i]=data[i].replace(data[i].strip().split('|')[0],\"LJ00\"+str(t)+\"-000\"+str(j))\n",
    "    elif j>=10 and j<100 :\n",
    "        data[i]=data[i].replace(data[i].strip().split('|')[0],\"LJ00\"+str(t)+\"-00\"+str(j))\n",
    "    else :\n",
    "        data[i]=data[i].replace(data[i].strip().split('|')[0],\"LJ00\"+str(t)+\"-0\"+str(j))\n",
    "    data[i]=data[i].replace(data[i].strip().split('|')[3],'')\n",
    "    data[i] = data[i].rstrip()[:-1]\n",
    "    #os.rename(file_name,new_filename)\n",
    "    j=j+1"
   ]
  },
  {
   "cell_type": "code",
   "execution_count": null,
   "metadata": {},
   "outputs": [],
   "source": [
    "data[0].strip().split('|')[3]"
   ]
  },
  {
   "cell_type": "code",
   "execution_count": null,
   "metadata": {},
   "outputs": [],
   "source": [
    "import csv\n",
    "\n",
    "f = open('metadata.csv','w',encoding='utf-8',newline='')\n",
    "wr = csv.writer(f)\n",
    "f.close"
   ]
  },
  {
   "cell_type": "code",
   "execution_count": null,
   "metadata": {},
   "outputs": [],
   "source": [
    "import os\n",
    "\n",
    "with open(os.path.join(file_path,'metadata.csv'),encoding='utf-8') as f:\n",
    "    for line in f:\n",
    "        print(line)"
   ]
  },
  {
   "cell_type": "code",
   "execution_count": null,
   "metadata": {},
   "outputs": [],
   "source": [
    "import pandas as pd\n",
    "\n",
    "dataframe = pd.DataFrame(data)\n",
    "dataframe"
   ]
  },
  {
   "cell_type": "code",
   "execution_count": null,
   "metadata": {},
   "outputs": [],
   "source": [
    "dataframe.to_csv('/home/jeon/Desktop/audio_project/Tacotron-2/LJSpeech-1.1/korean-single-speaker-speech-dataset/metadata.csv',header=False,index=False)"
   ]
  },
  {
   "cell_type": "code",
   "execution_count": null,
   "metadata": {},
   "outputs": [],
   "source": []
  }
 ],
 "metadata": {
  "kernelspec": {
   "display_name": "cuda",
   "language": "python",
   "name": "tensorflow3.6"
  },
  "language_info": {
   "codemirror_mode": {
    "name": "ipython",
    "version": 3
   },
   "file_extension": ".py",
   "mimetype": "text/x-python",
   "name": "python",
   "nbconvert_exporter": "python",
   "pygments_lexer": "ipython3",
   "version": "3.6.7"
  }
 },
 "nbformat": 4,
 "nbformat_minor": 2
}
