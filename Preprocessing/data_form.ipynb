{
 "cells": [
  {
   "cell_type": "code",
   "execution_count": 35,
   "metadata": {},
   "outputs": [],
   "source": [
    "import numpy as np\n",
    "audio_data = np.load('C:/Users/o/Desktop/audio_project/Tacotron-2/training_data/audio/audio-LJ002-0001.npy')"
   ]
  },
  {
   "cell_type": "code",
   "execution_count": 36,
   "metadata": {},
   "outputs": [
    {
     "data": {
      "text/plain": [
       "177375"
      ]
     },
     "execution_count": 36,
     "metadata": {},
     "output_type": "execute_result"
    }
   ],
   "source": [
    "len(audio_data)"
   ]
  },
  {
   "cell_type": "code",
   "execution_count": 37,
   "metadata": {},
   "outputs": [
    {
     "data": {
      "text/plain": [
       "(177375,)"
      ]
     },
     "execution_count": 37,
     "metadata": {},
     "output_type": "execute_result"
    }
   ],
   "source": [
    "audio_data.shape\n"
   ]
  },
  {
   "cell_type": "code",
   "execution_count": 38,
   "metadata": {},
   "outputs": [
    {
     "data": {
      "text/plain": [
       "275.0"
      ]
     },
     "execution_count": 38,
     "metadata": {},
     "output_type": "execute_result"
    }
   ],
   "source": [
    "209550/762"
   ]
  },
  {
   "cell_type": "code",
   "execution_count": 39,
   "metadata": {},
   "outputs": [
    {
     "data": {
      "text/plain": [
       "array([ 0.00721573,  0.00398583, -0.00137442, ..., -0.01999787,\n",
       "       -0.01786751, -0.01628692], dtype=float32)"
      ]
     },
     "execution_count": 39,
     "metadata": {},
     "output_type": "execute_result"
    }
   ],
   "source": [
    "audio_data"
   ]
  },
  {
   "cell_type": "code",
   "execution_count": 40,
   "metadata": {},
   "outputs": [],
   "source": [
    "linear_data = np.load('C:/Users/o/Desktop/audio_project/Tacotron-2/training_data/linear/linear-LJ002-0001.npy')"
   ]
  },
  {
   "cell_type": "code",
   "execution_count": 41,
   "metadata": {},
   "outputs": [
    {
     "data": {
      "text/plain": [
       "array([[ 0.29987812,  0.30229902,  0.31278372, ..., -0.18832326,\n",
       "        -0.19199276, -0.19084525],\n",
       "       [-0.20061684, -0.1708231 , -0.1661675 , ..., -0.7151141 ,\n",
       "        -0.6729424 , -0.6338911 ],\n",
       "       [-2.2568736 , -2.5581932 , -2.7559438 , ..., -2.2639294 ,\n",
       "        -2.1712804 , -2.1575787 ],\n",
       "       ...,\n",
       "       [-2.9319873 , -2.6455226 , -2.254193  , ..., -3.5383942 ,\n",
       "        -3.7491565 , -4.        ],\n",
       "       [-0.54520845, -0.553025  , -0.5673218 , ..., -3.2018895 ,\n",
       "        -3.627592  , -4.        ],\n",
       "       [ 0.14086628,  0.1321044 ,  0.12004995, ..., -2.860877  ,\n",
       "        -2.900899  , -2.9495587 ]], dtype=float32)"
      ]
     },
     "execution_count": 41,
     "metadata": {},
     "output_type": "execute_result"
    }
   ],
   "source": [
    "linear_data"
   ]
  },
  {
   "cell_type": "code",
   "execution_count": 42,
   "metadata": {},
   "outputs": [
    {
     "data": {
      "text/plain": [
       "(645, 1025)"
      ]
     },
     "execution_count": 42,
     "metadata": {},
     "output_type": "execute_result"
    }
   ],
   "source": [
    "linear_data.shape"
   ]
  },
  {
   "cell_type": "code",
   "execution_count": 43,
   "metadata": {},
   "outputs": [
    {
     "data": {
      "text/plain": [
       "645"
      ]
     },
     "execution_count": 43,
     "metadata": {},
     "output_type": "execute_result"
    }
   ],
   "source": [
    "len(linear_data)"
   ]
  },
  {
   "cell_type": "code",
   "execution_count": 48,
   "metadata": {},
   "outputs": [],
   "source": [
    "mel_data = np.load('C:/Users/o/Desktop/audio_project/Tacotron-2/training_data/mels/mel-LJ002-0001.npy')"
   ]
  },
  {
   "cell_type": "code",
   "execution_count": 49,
   "metadata": {},
   "outputs": [
    {
     "data": {
      "text/plain": [
       "array([[-1.1346476 , -0.86543906, -0.9011537 , ..., -1.3873132 ,\n",
       "        -1.48133   , -1.3600652 ],\n",
       "       [-1.5305859 , -0.8136612 , -0.71953464, ..., -0.9945502 ,\n",
       "        -0.2595733 , -0.06507984],\n",
       "       [-1.7287418 , -0.80089784, -0.5129053 , ..., -0.6459155 ,\n",
       "         0.07374536,  0.27179644],\n",
       "       ...,\n",
       "       [-2.1178117 , -1.6046498 , -0.8575118 , ..., -2.6536129 ,\n",
       "        -2.4669414 , -2.6651144 ],\n",
       "       [-2.2094164 , -2.1288865 , -1.4633856 , ..., -2.410168  ,\n",
       "        -2.3676436 , -2.6023536 ],\n",
       "       [-1.688476  , -2.0089624 , -1.040856  , ..., -2.5614288 ,\n",
       "        -2.5446668 , -2.756523  ]], dtype=float32)"
      ]
     },
     "execution_count": 49,
     "metadata": {},
     "output_type": "execute_result"
    }
   ],
   "source": [
    "mel_data"
   ]
  },
  {
   "cell_type": "code",
   "execution_count": 50,
   "metadata": {},
   "outputs": [
    {
     "data": {
      "text/plain": [
       "(645, 80)"
      ]
     },
     "execution_count": 50,
     "metadata": {},
     "output_type": "execute_result"
    }
   ],
   "source": [
    "len(mel_data)\n",
    "mel_data.shape"
   ]
  },
  {
   "cell_type": "code",
   "execution_count": null,
   "metadata": {},
   "outputs": [],
   "source": []
  }
 ],
 "metadata": {
  "kernelspec": {
   "display_name": "tensorflow",
   "language": "python",
   "name": "tensorflow"
  },
  "language_info": {
   "codemirror_mode": {
    "name": "ipython",
    "version": 3
   },
   "file_extension": ".py",
   "mimetype": "text/x-python",
   "name": "python",
   "nbconvert_exporter": "python",
   "pygments_lexer": "ipython3",
   "version": "3.6.6"
  }
 },
 "nbformat": 4,
 "nbformat_minor": 2
}
