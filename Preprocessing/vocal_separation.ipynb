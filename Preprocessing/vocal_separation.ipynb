{
  "nbformat": 4,
  "nbformat_minor": 0,
  "metadata": {
    "colab": {
      "name": "vocal_separation.ipynb",
      "version": "0.3.2",
      "provenance": [],
      "collapsed_sections": []
    },
    "kernelspec": {
      "name": "python3",
      "display_name": "Python 3"
    },
    "accelerator": "GPU"
  },
  "cells": [
    {
      "metadata": {
        "id": "2StpVkPpMvAb",
        "colab_type": "code",
        "outputId": "0ec9cc50-3d57-4e4e-a23d-ef965a93c318",
        "colab": {
          "base_uri": "https://localhost:8080/",
          "height": 58
        }
      },
      "cell_type": "code",
      "source": [
        "!apt-get install -y -qq software-properties-common python-software-properties module-init-tools\n",
        "!add-apt-repository -y ppa:alessandro-strada/ppa 2>&1 > /dev/null\n",
        "!apt-get update -qq 2>&1 > /dev/null\n",
        "!apt-get -y install -qq google-drive-ocamlfuse fuse\n",
        "\n",
        "from google.colab import auth\n",
        "auth.authenticate_user()\n",
        "\n",
        "from oauth2client.client import GoogleCredentials\n",
        "creds = GoogleCredentials.get_application_default()\n",
        "\n",
        "import getpass\n",
        "!google-drive-ocamlfuse -headless -id={creds.client_id} -secret={creds.client_secret} < /dev/null 2>&1 | grep URL\n",
        "vcode = getpass.getpass()\n",
        "!echo {vcode} | google-drive-ocamlfuse -headless -id={creds.client_id} -secret={creds.client_secret}"
      ],
      "execution_count": 0,
      "outputs": [
        {
          "output_type": "stream",
          "text": [
            "E: Package 'python-software-properties' has no installation candidate\n"
          ],
          "name": "stdout"
        }
      ]
    },
    {
      "metadata": {
        "id": "0i4nlsElM0fU",
        "colab_type": "code",
        "colab": {}
      },
      "cell_type": "code",
      "source": [
        "!mkdir -p drive\n",
        "!google-drive-ocamlfuse drive\n",
        "\n",
        "import os\n",
        "os.chdir(\"/content/drive/tobigs\")"
      ],
      "execution_count": 0,
      "outputs": []
    },
    {
      "metadata": {
        "id": "7B87oKVCM0cr",
        "colab_type": "code",
        "colab": {}
      },
      "cell_type": "code",
      "source": [
        "from __future__ import print_function\n",
        "import numpy as np\n",
        "import matplotlib.pyplot as plt\n",
        "import librosa\n",
        "\n",
        "import librosa.display"
      ],
      "execution_count": 0,
      "outputs": []
    },
    {
      "metadata": {
        "id": "VWZenZlwM0Z3",
        "colab_type": "code",
        "colab": {}
      },
      "cell_type": "code",
      "source": [
        "def nn_filter(s):\n",
        "    S_full = s\n",
        "    S_filter = librosa.decompose.nn_filter(S_full,\n",
        "                                          aggregate=np.median,\n",
        "                                          metric='cosine',\n",
        "                                          width=int(librosa.time_to_frames(2, sr=sr)))\n",
        "    S_filter = np.minimum(S_full, S_filter)\n",
        "    return S_filter"
      ],
      "execution_count": 0,
      "outputs": []
    },
    {
      "metadata": {
        "id": "usovnbNbM4sa",
        "colab_type": "code",
        "colab": {}
      },
      "cell_type": "code",
      "source": [
        "def foreground(s, f):\n",
        "    S_full = s\n",
        "    S_filter = f\n",
        "    margin_i, margin_v = 2, 10\n",
        "    power = 2\n",
        "\n",
        "    mask_v = librosa.util.softmask(S_full - S_filter,\n",
        "                               margin_v * S_filter,\n",
        "                               power=power)    \n",
        "    S_foreground = mask_v * S_full\n",
        "    return S_foreground"
      ],
      "execution_count": 0,
      "outputs": []
    },
    {
      "metadata": {
        "id": "vU8kKrLXM4pf",
        "colab_type": "code",
        "colab": {}
      },
      "cell_type": "code",
      "source": [
        "def output_file(destination ,filename, y, sr, ext=\"\"):\n",
        "    destination = destination + filename[:-4] + ext + '.wav'\n",
        "    librosa.output.write_wav(destination, y, sr)"
      ],
      "execution_count": 0,
      "outputs": []
    },
    {
      "metadata": {
        "id": "mKekeOjUM4nL",
        "colab_type": "code",
        "colab": {}
      },
      "cell_type": "code",
      "source": [
        "def read_file(file_name):\n",
        "    sample_file = file_name\n",
        "    sample_directory = './rpca/chuncks_hk/'\n",
        "    sample_path = sample_directory + sample_file\n",
        "\n",
        "    # generating audio time series and a sampling rate (int)\n",
        "    y, sr = librosa.load(sample_path, duration=120)\n",
        "\n",
        "    return y, sr"
      ],
      "execution_count": 0,
      "outputs": []
    },
    {
      "metadata": {
        "id": "aRHtadhVM4ks",
        "colab_type": "code",
        "colab": {}
      },
      "cell_type": "code",
      "source": [
        "audio_path = './rpca/chuncks_hk'\n",
        "files = [y for y in os.listdir(audio_path) if '.wav' in y]"
      ],
      "execution_count": 0,
      "outputs": []
    },
    {
      "metadata": {
        "id": "Xau7QIsbPPx2",
        "colab_type": "code",
        "colab": {}
      },
      "cell_type": "code",
      "source": [
        "files[:10]"
      ],
      "execution_count": 0,
      "outputs": []
    },
    {
      "metadata": {
        "id": "p-Q0d6JIM4jM",
        "colab_type": "code",
        "colab": {}
      },
      "cell_type": "code",
      "source": [
        "for x in files:\n",
        "    y, sr = read_file(x)\n",
        "    S_full, phase = librosa.magphase(librosa.stft(y))\n",
        "    \n",
        "    S_filter = nn_filter(S_full)\n",
        "    S_foreground = foreground(S_full, S_filter)\n",
        "    y_foreground = librosa.istft(S_foreground * phase)\n",
        "    \n",
        "    #librosa.output.write_wav('2.wav', y_foreground, sr)\n",
        "    output_file('./rpca+vocal_sep/03_rpca+vocal_sep_hk/', x, y_foreground, sr, '_vocal_sep')\n"
      ],
      "execution_count": 0,
      "outputs": []
    },
    {
      "metadata": {
        "id": "janxLF4c0cjn",
        "colab_type": "code",
        "colab": {}
      },
      "cell_type": "code",
      "source": [
        ""
      ],
      "execution_count": 0,
      "outputs": []
    }
  ]
}