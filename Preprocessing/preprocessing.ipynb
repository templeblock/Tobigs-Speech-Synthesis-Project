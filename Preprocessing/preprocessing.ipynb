{
 "cells": [
  {
   "cell_type": "code",
   "execution_count": 1,
   "metadata": {},
   "outputs": [
    {
     "data": {
      "text/plain": [
       "array([-0.21065567, -0.33885282, -0.1524703 , ...,  0.00181212,\n",
       "        0.00198035,  0.00288754], dtype=float32)"
      ]
     },
     "execution_count": 1,
     "metadata": {},
     "output_type": "execute_result"
    }
   ],
   "source": [
    "import librosa\n",
    "import librosa.filters\n",
    "import numpy as np\n",
    "\n",
    "#def _process_utterance (preprocessor.py)\n",
    "wav_path = 'C:/Users/o/Desktop/audio_project/Tacotron-2/LJSpeech-1.1/wavs/LJ001-0002.wav'\n",
    "wav = librosa.core.load(wav_path, sr=22050)[0]\n",
    "wav"
   ]
  },
  {
   "cell_type": "markdown",
   "metadata": {},
   "source": [
    "### trim_silence(audio.py)"
   ]
  },
  {
   "cell_type": "code",
   "execution_count": 6,
   "metadata": {},
   "outputs": [
    {
     "data": {
      "text/plain": [
       "(208640,)"
      ]
     },
     "execution_count": 6,
     "metadata": {},
     "output_type": "execute_result"
    }
   ],
   "source": [
    "librosa.effects.trim(wav,top_db=23,frame_length=512,hop_length=128)[0].shape"
   ]
  },
  {
   "cell_type": "code",
   "execution_count": 3,
   "metadata": {},
   "outputs": [
    {
     "name": "stdout",
     "output_type": "stream",
     "text": [
      "None\n"
     ]
    }
   ],
   "source": [
    "def trim_silence(wav): #audio.py\n",
    "    librosa.effects.trim(wav,top_db=23,frame_length=512,hop_length=128)[0]\n",
    "    \n",
    "trim_silence(wav)"
   ]
  },
  {
   "cell_type": "code",
   "execution_count": 4,
   "metadata": {},
   "outputs": [
    {
     "name": "stderr",
     "output_type": "stream",
     "text": [
      "C:\\Users\\o\\Anaconda3\\lib\\site-packages\\h5py\\__init__.py:36: FutureWarning: Conversion of the second argument of issubdtype from `float` to `np.floating` is deprecated. In future, it will be treated as `np.float64 == np.dtype(float).type`.\n",
      "  from ._conv import register_converters as _register_converters\n"
     ]
    }
   ],
   "source": [
    "import librosa\n",
    "import librosa.filters\n",
    "import numpy as np\n",
    "import tensorflow as tf\n",
    "from scipy import signal\n",
    "from scipy.io import wavfile"
   ]
  },
  {
   "cell_type": "markdown",
   "metadata": {},
   "source": [
    "### get_hop_size(hparams) (audio.py)"
   ]
  },
  {
   "cell_type": "code",
   "execution_count": 5,
   "metadata": {},
   "outputs": [],
   "source": [
    "def get_hop_size():\n",
    "    hop_size = 275\n",
    "    if hop_size is None:\n",
    "        assert hparams.frame_shift_ms is not None\n",
    "        hop_size = int(None / 1000 * 22050)\n",
    "    return hop_size"
   ]
  },
  {
   "cell_type": "markdown",
   "metadata": {},
   "source": [
    "### melspectrogram(audio.py)"
   ]
  },
  {
   "cell_type": "code",
   "execution_count": 6,
   "metadata": {},
   "outputs": [],
   "source": [
    "def _lws_processor():\n",
    "    import lws\n",
    "    return lws.lws(2048, get_hop_size(), fftsize=1100, mode=\"speech\")"
   ]
  },
  {
   "cell_type": "code",
   "execution_count": 7,
   "metadata": {},
   "outputs": [],
   "source": [
    "def _stft(y): #short time fourier transform\n",
    "    #if hparams.use_lws:\n",
    "    #    return _lws_processor(hparams).stft(y).T\n",
    "    #else:\n",
    "    return librosa.stft(y=y, n_fft=2048, hop_length=get_hop_size(), win_length=1100)"
   ]
  },
  {
   "cell_type": "code",
   "execution_count": 8,
   "metadata": {},
   "outputs": [],
   "source": [
    "def preemphasis(wav, k, preemphasize=True):\n",
    "    if preemphasize:\n",
    "        return signal.lfilter([1, -k], [1], wav)\n",
    "    return wav"
   ]
  },
  {
   "cell_type": "code",
   "execution_count": 9,
   "metadata": {},
   "outputs": [],
   "source": [
    "#def melspectrogram(wav,hparams): (audio.py)\n",
    "D = _stft(preemphasis(wav,0.97,True)) #(1025, 802)"
   ]
  },
  {
   "cell_type": "code",
   "execution_count": 10,
   "metadata": {},
   "outputs": [],
   "source": [
    "def _amp_to_db(x):\n",
    "    min_level = np.exp( -100 / 20 * np.log(10)) \n",
    "    return 20 * np.log10(np.maximum(min_level, x))"
   ]
  },
  {
   "cell_type": "code",
   "execution_count": 11,
   "metadata": {},
   "outputs": [],
   "source": [
    "def _build_mel_basis():\n",
    "    assert 7600 <= 22050 // 2\n",
    "    return librosa.filters.mel(22050, 2048, n_mels=80,\n",
    "                               fmin=55, fmax=7600) #n_mels = #Number of mel-spectrogram channels and local conditioning dimensionality\n",
    "#fmin : 이값이 55면 male 95면 should help taking off noise"
   ]
  },
  {
   "cell_type": "code",
   "execution_count": 12,
   "metadata": {},
   "outputs": [],
   "source": [
    "_mel_basis = None\n",
    "\n",
    "def _linear_to_mel(spectogram):\n",
    "    global _mel_basis\n",
    "    if _mel_basis is None:\n",
    "        _mel_basis = _build_mel_basis()\n",
    "    return np.dot(_mel_basis, spectogram) #_mel_basis, spectrogram dot product"
   ]
  },
  {
   "cell_type": "code",
   "execution_count": 13,
   "metadata": {
    "scrolled": true
   },
   "outputs": [
    {
     "data": {
      "text/plain": [
       "array([[-65.17639178, -63.81579223, -65.33661227, ..., -92.7181426 ,\n",
       "        -79.31536568, -73.70615071],\n",
       "       [-60.07190905, -55.73654628, -56.7799492 , ..., -80.7047733 ,\n",
       "        -78.34903129, -76.53380932],\n",
       "       [-59.90354292, -55.91014862, -57.02379754, ..., -79.56741829,\n",
       "        -80.71872171, -86.96110007],\n",
       "       ...,\n",
       "       [-57.58460998, -60.24204231, -59.04554332, ..., -84.81655836,\n",
       "        -88.366323  , -95.3308984 ],\n",
       "       [-57.45054019, -61.84319912, -68.06492264, ..., -88.55946752,\n",
       "        -90.07159373, -95.92540955],\n",
       "       [-56.14826313, -60.42914531, -68.63958203, ..., -91.37407124,\n",
       "        -92.26017924, -93.87807198]])"
      ]
     },
     "execution_count": 13,
     "metadata": {},
     "output_type": "execute_result"
    }
   ],
   "source": [
    "#def melspectrogram(wav,hparams): (audio.py)\n",
    "D = _stft(preemphasis(wav,0.97,True)) #(1025, 802)\n",
    "S = _amp_to_db(_linear_to_mel(np.abs(D))) - 20 #(80,802)\n",
    "S"
   ]
  },
  {
   "cell_type": "code",
   "execution_count": 79,
   "metadata": {},
   "outputs": [
    {
     "data": {
      "text/plain": [
       "array([[-65.17639178, -63.81579223, -65.33661227, ..., -92.7181426 ,\n",
       "        -79.31536568, -73.70615071],\n",
       "       [-60.07190905, -55.73654628, -56.7799492 , ..., -80.7047733 ,\n",
       "        -78.34903129, -76.53380932],\n",
       "       [-59.90354292, -55.91014862, -57.02379754, ..., -79.56741829,\n",
       "        -80.71872171, -86.96110007],\n",
       "       ...,\n",
       "       [-57.58460998, -60.24204231, -59.04554332, ..., -84.81655836,\n",
       "        -88.366323  , -95.3308984 ],\n",
       "       [-57.45054019, -61.84319912, -68.06492264, ..., -88.55946752,\n",
       "        -90.07159373, -95.92540955],\n",
       "       [-56.14826313, -60.42914531, -68.63958203, ..., -91.37407124,\n",
       "        -92.26017924, -93.87807198]])"
      ]
     },
     "execution_count": 79,
     "metadata": {},
     "output_type": "execute_result"
    }
   ],
   "source": [
    "def melspectrogram(wav):\n",
    "    return S\n",
    "    \n",
    "melspectrogram(wav)"
   ]
  },
  {
   "cell_type": "markdown",
   "metadata": {},
   "source": [
    "#### _normalize(audio.py - melspectrogram에서 쓰임)"
   ]
  },
  {
   "cell_type": "code",
   "execution_count": 25,
   "metadata": {},
   "outputs": [
    {
     "data": {
      "text/plain": [
       "array([[-1.21411134, -1.10526338, -1.22692898, ..., -3.41745141,\n",
       "        -2.34522925, -1.89649206],\n",
       "       [-0.80575272, -0.4589237 , -0.54239594, ..., -2.45638186,\n",
       "        -2.2679225 , -2.12270475],\n",
       "       [-0.79228343, -0.47281189, -0.5619038 , ..., -2.36539346,\n",
       "        -2.45749774, -2.95688801],\n",
       "       ...,\n",
       "       [-0.6067688 , -0.81936338, -0.72364347, ..., -2.78532467,\n",
       "        -3.06930584, -3.62647187],\n",
       "       [-0.59604322, -0.94745593, -1.44519381, ..., -3.0847574 ,\n",
       "        -3.2057275 , -3.67403276],\n",
       "       [-0.49186105, -0.83433162, -1.49116656, ..., -3.3099257 ,\n",
       "        -3.38081434, -3.51024576]])"
      ]
     },
     "execution_count": 25,
     "metadata": {},
     "output_type": "execute_result"
    }
   ],
   "source": [
    "#allow_clipping_in_normalization\n",
    "#symetric_mels인 경우\n",
    "def _normalize(S):\n",
    "    #allow_clipping_in_normalization\n",
    "    #symetric_mels인 경우\n",
    "    return np.clip((2 * 4) * ((S - (-100)) / 100) -4 ,-4, 4) #최소-4, 최대 4로 정규화(넘는건 다 잘라버림)\n",
    "#(2 * 4) * ((S + 100) / (100)) - 4.을 대상으로 \n",
    "_normalize(S)"
   ]
  },
  {
   "cell_type": "code",
   "execution_count": 54,
   "metadata": {
    "scrolled": true
   },
   "outputs": [
    {
     "data": {
      "text/plain": [
       "array([[1.39294433, 1.44736831, 1.38653551, ..., 0.2912743 , 0.82738537,\n",
       "        1.05175397],\n",
       "       [1.59712364, 1.77053815, 1.72880203, ..., 0.77180907, 0.86603875,\n",
       "        0.93864763],\n",
       "       [1.60385828, 1.76359406, 1.7190481 , ..., 0.81730327, 0.77125113,\n",
       "        0.521556  ],\n",
       "       ...,\n",
       "       [1.6966156 , 1.59031831, 1.63817827, ..., 0.60733767, 0.46534708,\n",
       "        0.18676406],\n",
       "       [1.70197839, 1.52627204, 1.27740309, ..., 0.4576213 , 0.39713625,\n",
       "        0.16298362],\n",
       "       [1.75406947, 1.58283419, 1.25441672, ..., 0.34503715, 0.30959283,\n",
       "        0.24487712]])"
      ]
     },
     "execution_count": 54,
     "metadata": {},
     "output_type": "execute_result"
    }
   ],
   "source": [
    "#allow_clipping_in_normalization\n",
    "#symmetric_mels가 아닌경우\n",
    "np.clip(4 * ((S + 100) / (100)), 0, 4.) #4 * ((S + 100) / (100))를 대상으로 0과 4 사이로(0보다 작으면 0, 4보다 크면 4)"
   ]
  },
  {
   "cell_type": "code",
   "execution_count": 55,
   "metadata": {
    "scrolled": true
   },
   "outputs": [
    {
     "data": {
      "text/plain": [
       "array([[-1.21411134, -1.10526338, -1.22692898, ..., -3.41745141,\n",
       "        -2.34522925, -1.89649206],\n",
       "       [-0.80575272, -0.4589237 , -0.54239594, ..., -2.45638186,\n",
       "        -2.2679225 , -2.12270475],\n",
       "       [-0.79228343, -0.47281189, -0.5619038 , ..., -2.36539346,\n",
       "        -2.45749774, -2.95688801],\n",
       "       ...,\n",
       "       [-0.6067688 , -0.81936338, -0.72364347, ..., -2.78532467,\n",
       "        -3.06930584, -3.62647187],\n",
       "       [-0.59604322, -0.94745593, -1.44519381, ..., -3.0847574 ,\n",
       "        -3.2057275 , -3.67403276],\n",
       "       [-0.49186105, -0.83433162, -1.49116656, ..., -3.3099257 ,\n",
       "        -3.38081434, -3.51024576]])"
      ]
     },
     "execution_count": 55,
     "metadata": {},
     "output_type": "execute_result"
    }
   ],
   "source": [
    "#not allow_clipping_in_normalization\n",
    "#symmetric_mels인 경우\n",
    "#(2 * hparams.max_abs_value) * ((S - hparams.min_level_db) / (-hparams.min_level_db)) - hparams.max_abs_value\n",
    "(2 * 4.) * ((S + 100) / (100)) - 4."
   ]
  },
  {
   "cell_type": "code",
   "execution_count": null,
   "metadata": {},
   "outputs": [],
   "source": [
    "#non symmetric_mels인 경우\n",
    "hparams.max_abs_value * ((S - hparams.min_level_db) / (-hparams.min_level_db))"
   ]
  },
  {
   "cell_type": "markdown",
   "metadata": {},
   "source": [
    "### def inv_linear_spectrogram(linear_spectrogram, haprams) (audio.py)"
   ]
  },
  {
   "cell_type": "markdown",
   "metadata": {},
   "source": [
    "convert linear spectrogram to waveform using librosa"
   ]
  },
  {
   "cell_type": "markdown",
   "metadata": {},
   "source": [
    "#### _denormalize(D,haparams)"
   ]
  },
  {
   "cell_type": "code",
   "execution_count": 60,
   "metadata": {},
   "outputs": [
    {
     "data": {
      "text/plain": [
       "array([-47.144463+0.j, -46.950703+0.j, -46.90126 +0.j, -47.282337+0.j,\n",
       "       -48.45782 +0.j, -49.72403 +0.j, -49.953033+0.j, -49.930946+0.j,\n",
       "       -50.044094+0.j, -50.061073+0.j, -50.06622 +0.j, -50.346436+0.j,\n",
       "       -51.12453 +0.j, -51.20158 +0.j, -50.260864+0.j, -49.719704+0.j,\n",
       "       -49.614727+0.j, -49.589283+0.j, -49.597942+0.j, -49.65122 +0.j,\n",
       "       -49.852745+0.j, -49.907814+0.j, -49.891407+0.j, -49.886547+0.j,\n",
       "       -49.889893+0.j, -49.89051 +0.j, -49.936695+0.j, -49.943817+0.j,\n",
       "       -49.888535+0.j, -49.92501 +0.j, -49.929047+0.j, -49.943226+0.j,\n",
       "       -49.944817+0.j, -50.12447 +0.j, -50.31583 +0.j, -50.379482+0.j,\n",
       "       -50.18011 +0.j, -49.903427+0.j, -50.1257  +0.j, -50.49699 +0.j,\n",
       "       -50.792557+0.j, -50.794556+0.j, -50.4142  +0.j, -50.15916 +0.j,\n",
       "       -50.097652+0.j, -50.045223+0.j, -50.039307+0.j, -50.05754 +0.j,\n",
       "       -50.024998+0.j, -49.978004+0.j, -49.94908 +0.j, -49.97777 +0.j,\n",
       "       -50.055897+0.j, -50.022526+0.j, -49.98828 +0.j, -49.9225  +0.j,\n",
       "       -49.829834+0.j, -49.905724+0.j, -49.90456 +0.j, -49.88058 +0.j,\n",
       "       -49.919086+0.j, -49.940716+0.j, -49.965137+0.j, -49.97464 +0.j,\n",
       "       -49.934566+0.j, -49.873016+0.j, -49.91897 +0.j, -49.973297+0.j,\n",
       "       -49.978413+0.j, -49.973763+0.j, -49.99137 +0.j, -50.054745+0.j,\n",
       "       -50.0487  +0.j, -50.025497+0.j, -50.05129 +0.j, -50.03885 +0.j,\n",
       "       -50.02904 +0.j, -50.030396+0.j, -49.99572 +0.j, -49.976044+0.j,\n",
       "       -49.977535+0.j, -50.010715+0.j, -50.033035+0.j, -50.029587+0.j,\n",
       "       -50.03307 +0.j, -50.017086+0.j, -50.021233+0.j, -50.01871 +0.j,\n",
       "       -49.962036+0.j, -49.956833+0.j, -49.97942 +0.j, -50.058136+0.j,\n",
       "       -50.097057+0.j, -50.19032 +0.j, -50.42868 +0.j, -50.512787+0.j,\n",
       "       -50.414997+0.j, -50.411755+0.j, -50.332134+0.j, -50.34235 +0.j,\n",
       "       -50.424263+0.j, -50.299686+0.j, -50.17078 +0.j, -51.020126+0.j,\n",
       "       -52.08468 +0.j, -51.898937+0.j, -51.662273+0.j, -51.36304 +0.j,\n",
       "       -50.592304+0.j, -50.13652 +0.j, -50.064552+0.j, -50.002865+0.j,\n",
       "       -49.996166+0.j, -49.988167+0.j, -49.968155+0.j, -49.994816+0.j,\n",
       "       -50.004047+0.j, -50.000164+0.j, -50.004734+0.j, -50.00377 +0.j,\n",
       "       -49.991035+0.j, -50.10417 +0.j, -50.319027+0.j, -50.51358 +0.j,\n",
       "       -50.55317 +0.j, -50.436287+0.j, -50.38249 +0.j, -50.351997+0.j,\n",
       "       -50.401127+0.j, -50.62067 +0.j, -50.574577+0.j, -50.34681 +0.j,\n",
       "       -50.171246+0.j, -50.00194 +0.j, -50.011494+0.j, -50.016582+0.j,\n",
       "       -50.04843 +0.j, -51.018436+0.j, -53.083073+0.j, -53.76333 +0.j,\n",
       "       -52.70236 +0.j, -51.52722 +0.j, -50.777473+0.j, -50.623608+0.j,\n",
       "       -50.678226+0.j, -50.571518+0.j, -50.278126+0.j, -50.22833 +0.j,\n",
       "       -50.175484+0.j, -50.16102 +0.j, -50.184124+0.j, -50.10739 +0.j,\n",
       "       -50.220566+0.j, -50.225933+0.j, -50.156334+0.j, -50.09859 +0.j,\n",
       "       -50.08866 +0.j, -50.07643 +0.j, -49.993904+0.j, -50.113205+0.j,\n",
       "       -50.157654+0.j, -50.14626 +0.j, -50.091316+0.j, -50.10164 +0.j,\n",
       "       -50.17802 +0.j, -50.127045+0.j, -50.114353+0.j, -50.002758+0.j,\n",
       "       -49.99821 +0.j, -49.972713+0.j, -49.951626+0.j, -49.998737+0.j,\n",
       "       -49.98007 +0.j, -50.009182+0.j, -50.012077+0.j, -49.999725+0.j,\n",
       "       -49.963676+0.j, -49.97831 +0.j, -49.972504+0.j, -49.97977 +0.j,\n",
       "       -49.98457 +0.j, -49.991352+0.j, -50.02936 +0.j, -50.11201 +0.j,\n",
       "       -50.115646+0.j, -50.076233+0.j, -50.145313+0.j, -50.16495 +0.j,\n",
       "       -50.067333+0.j, -49.98897 +0.j, -50.07675 +0.j, -50.169044+0.j,\n",
       "       -50.101643+0.j, -50.055866+0.j, -50.028805+0.j, -49.908733+0.j,\n",
       "       -49.89108 +0.j, -49.96987 +0.j, -49.96335 +0.j, -50.038166+0.j,\n",
       "       -50.08689 +0.j, -50.068436+0.j, -50.089104+0.j, -50.02307 +0.j,\n",
       "       -49.95437 +0.j, -50.019985+0.j, -50.026398+0.j, -49.92758 +0.j,\n",
       "       -49.970543+0.j, -49.955677+0.j, -49.98863 +0.j, -49.97    +0.j,\n",
       "       -49.92581 +0.j, -50.032356+0.j, -50.04992 +0.j, -50.024998+0.j,\n",
       "       -49.974125+0.j, -49.97101 +0.j, -49.976242+0.j, -49.91886 +0.j,\n",
       "       -49.89618 +0.j, -49.9593  +0.j, -49.93677 +0.j, -49.92607 +0.j,\n",
       "       -49.962013+0.j, -49.9794  +0.j, -50.050777+0.j, -50.02206 +0.j,\n",
       "       -49.99608 +0.j, -50.024582+0.j, -50.156292+0.j, -52.107677+0.j,\n",
       "       -54.323612+0.j, -53.648487+0.j, -51.917934+0.j, -51.064186+0.j,\n",
       "       -50.699593+0.j, -50.52915 +0.j, -50.375877+0.j, -50.207798+0.j,\n",
       "       -50.247738+0.j, -50.23166 +0.j, -50.231174+0.j, -50.199978+0.j,\n",
       "       -50.185673+0.j, -50.22127 +0.j, -50.126   +0.j, -50.03232 +0.j,\n",
       "       -49.947132+0.j, -49.989   +0.j, -50.083668+0.j, -50.129677+0.j,\n",
       "       -50.157837+0.j, -50.121906+0.j, -50.108063+0.j, -50.06982 +0.j,\n",
       "       -49.96534 +0.j, -49.910122+0.j, -49.944923+0.j, -50.010025+0.j,\n",
       "       -50.00419 +0.j, -50.00794 +0.j, -50.03683 +0.j, -50.014618+0.j,\n",
       "       -50.002487+0.j, -50.008278+0.j, -50.008766+0.j, -50.012337+0.j,\n",
       "       -50.016014+0.j, -50.009   +0.j, -50.00837 +0.j, -50.01172 +0.j,\n",
       "       -50.011955+0.j, -50.0084  +0.j, -49.998116+0.j, -50.001034+0.j,\n",
       "       -50.000656+0.j, -49.98864 +0.j, -49.991028+0.j, -50.00682 +0.j,\n",
       "       -50.02351 +0.j, -50.01094 +0.j, -50.00605 +0.j, -50.00134 +0.j,\n",
       "       -49.983   +0.j, -50.000355+0.j, -50.009712+0.j, -49.99919 +0.j,\n",
       "       -49.997723+0.j, -50.00535 +0.j, -50.00456 +0.j, -49.990917+0.j,\n",
       "       -49.973213+0.j, -49.972343+0.j, -49.993813+0.j, -50.013165+0.j,\n",
       "       -50.014095+0.j, -50.00718 +0.j, -49.997528+0.j, -49.986084+0.j,\n",
       "       -49.993896+0.j, -49.989475+0.j, -49.944668+0.j, -49.326878+0.j,\n",
       "       -48.3615  +0.j, -48.211678+0.j, -48.67127 +0.j, -48.929043+0.j,\n",
       "       -49.1061  +0.j, -49.399097+0.j, -49.556084+0.j, -49.644238+0.j,\n",
       "       -49.84314 +0.j, -49.91485 +0.j, -49.863945+0.j, -49.943394+0.j,\n",
       "       -49.99879 +0.j, -49.968452+0.j, -49.986805+0.j, -49.997353+0.j,\n",
       "       -49.983948+0.j, -50.007477+0.j, -50.021835+0.j, -49.97735 +0.j,\n",
       "       -49.933468+0.j, -49.947815+0.j, -49.954372+0.j, -49.99187 +0.j,\n",
       "       -50.02777 +0.j, -49.992435+0.j, -49.951298+0.j, -49.91157 +0.j,\n",
       "       -49.932446+0.j, -49.984318+0.j, -49.965416+0.j, -49.957603+0.j,\n",
       "       -49.974155+0.j, -49.97614 +0.j, -49.91458 +0.j, -49.87911 +0.j,\n",
       "       -49.943047+0.j, -50.003986+0.j, -50.035374+0.j, -50.1112  +0.j,\n",
       "       -50.069122+0.j, -49.982174+0.j, -49.986313+0.j, -49.89498 +0.j,\n",
       "       -49.90049 +0.j, -50.049603+0.j, -49.969643+0.j, -49.93062 +0.j,\n",
       "       -50.07876 +0.j, -50.017826+0.j, -49.798584+0.j, -49.546795+0.j,\n",
       "       -49.696045+0.j, -49.993927+0.j, -50.081158+0.j, -50.22019 +0.j,\n",
       "       -50.16139 +0.j, -49.95862 +0.j, -49.96158 +0.j, -50.060238+0.j,\n",
       "       -50.01465 +0.j, -49.9465  +0.j, -49.81919 +0.j, -49.604153+0.j,\n",
       "       -49.690853+0.j, -49.960144+0.j, -50.049694+0.j, -50.01202 +0.j,\n",
       "       -49.99097 +0.j, -49.994934+0.j, -50.00327 +0.j, -49.99667 +0.j,\n",
       "       -50.017883+0.j, -49.995266+0.j, -50.00467 +0.j, -50.00937 +0.j,\n",
       "       -49.965744+0.j, -49.977654+0.j, -49.991886+0.j, -50.027225+0.j,\n",
       "       -50.050568+0.j, -50.04127 +0.j, -50.014393+0.j, -50.015156+0.j,\n",
       "       -50.023125+0.j, -50.030148+0.j, -50.02494 +0.j, -50.028137+0.j,\n",
       "       -50.035442+0.j, -50.01603 +0.j, -49.96983 +0.j, -49.978333+0.j,\n",
       "       -50.005035+0.j, -49.996662+0.j, -49.99926 +0.j, -49.994694+0.j,\n",
       "       -49.999245+0.j, -49.973106+0.j, -49.970455+0.j, -50.058605+0.j,\n",
       "       -49.999   +0.j, -49.872906+0.j, -49.924026+0.j, -49.996494+0.j,\n",
       "       -50.01739 +0.j, -49.969513+0.j, -49.94931 +0.j, -50.046658+0.j,\n",
       "       -50.02704 +0.j, -49.949783+0.j, -50.004284+0.j, -50.019524+0.j,\n",
       "       -50.00963 +0.j, -50.03285 +0.j, -50.017982+0.j, -50.011227+0.j,\n",
       "       -50.026955+0.j, -50.024353+0.j, -49.977165+0.j, -49.972923+0.j,\n",
       "       -50.017685+0.j, -50.010498+0.j, -49.983   +0.j, -49.991447+0.j,\n",
       "       -50.85459 +0.j, -55.192642+0.j, -58.0878  +0.j, -54.88534 +0.j,\n",
       "       -51.72798 +0.j, -50.792374+0.j, -50.13809 +0.j, -49.923313+0.j,\n",
       "       -49.91487 +0.j, -49.954296+0.j, -49.913044+0.j, -49.876698+0.j,\n",
       "       -49.989914+0.j, -50.037304+0.j, -49.934566+0.j, -49.959248+0.j,\n",
       "       -50.043106+0.j, -50.010025+0.j, -50.072872+0.j, -50.073967+0.j,\n",
       "       -50.038963+0.j, -49.97247 +0.j, -49.94882 +0.j, -49.97815 +0.j,\n",
       "       -50.012993+0.j, -50.022575+0.j, -50.01179 +0.j, -50.012486+0.j,\n",
       "       -49.991917+0.j, -49.983154+0.j, -50.045734+0.j, -50.004333+0.j,\n",
       "       -49.932873+0.j, -49.98822 +0.j, -49.996483+0.j, -49.97046 +0.j,\n",
       "       -49.990314+0.j, -49.98292 +0.j, -49.99231 +0.j, -51.16112 +0.j,\n",
       "       -53.498833+0.j, -53.614147+0.j, -51.579277+0.j, -51.19427 +0.j,\n",
       "       -51.88645 +0.j, -51.390285+0.j, -50.58319 +0.j, -50.95748 +0.j,\n",
       "       -50.98364 +0.j, -50.22365 +0.j, -50.198082+0.j, -50.45671 +0.j,\n",
       "       -50.31067 +0.j, -50.073322+0.j, -50.111862+0.j, -50.0882  +0.j,\n",
       "       -49.9959  +0.j, -49.990803+0.j, -50.00051 +0.j, -50.018517+0.j,\n",
       "       -49.986267+0.j, -49.96398 +0.j, -50.01461 +0.j, -50.00306 +0.j,\n",
       "       -49.97973 +0.j, -50.01633 +0.j, -49.996006+0.j, -49.989445+0.j,\n",
       "       -50.007477+0.j, -49.939613+0.j, -49.961662+0.j, -50.022034+0.j,\n",
       "       -49.95309 +0.j, -49.961395+0.j, -50.03626 +0.j, -50.03826 +0.j,\n",
       "       -50.019707+0.j, -49.98672 +0.j, -49.993176+0.j, -49.979843+0.j,\n",
       "       -49.927223+0.j, -49.98187 +0.j, -50.01331 +0.j, -50.008305+0.j,\n",
       "       -50.016716+0.j, -50.01199 +0.j, -50.001804+0.j, -50.005898+0.j,\n",
       "       -50.023537+0.j, -50.014503+0.j, -50.0081  +0.j, -50.002   +0.j,\n",
       "       -49.963837+0.j, -50.000027+0.j, -50.029236+0.j, -49.99648 +0.j,\n",
       "       -50.01877 +0.j, -50.027203+0.j, -50.01097 +0.j, -50.00976 +0.j,\n",
       "       -50.01178 +0.j, -50.023163+0.j, -50.026276+0.j, -50.015648+0.j,\n",
       "       -50.034954+0.j, -50.057926+0.j, -50.27143 +0.j, -50.962173+0.j,\n",
       "       -52.40343 +0.j, -54.56977 +0.j, -56.25512 +0.j, -56.48586 +0.j,\n",
       "       -56.1296  +0.j, -55.207268+0.j, -53.78526 +0.j, -52.707787+0.j,\n",
       "       -52.30393 +0.j, -52.256653+0.j, -51.91685 +0.j, -52.065475+0.j,\n",
       "       -52.28892 +0.j, -51.76437 +0.j, -51.739166+0.j, -51.674175+0.j,\n",
       "       -50.71365 +0.j, -50.753517+0.j, -52.485935+0.j, -52.594845+0.j,\n",
       "       -50.808334+0.j, -50.03474 +0.j, -50.03214 +0.j, -50.034775+0.j,\n",
       "       -50.036896+0.j, -50.012787+0.j, -49.952316+0.j, -49.830894+0.j,\n",
       "       -49.138386+0.j, -48.959534+0.j, -49.643974+0.j, -49.947857+0.j,\n",
       "       -50.003433+0.j, -50.004585+0.j, -50.00239 +0.j, -50.03831 +0.j,\n",
       "       -50.030457+0.j, -50.04355 +0.j, -50.057606+0.j, -50.0668  +0.j,\n",
       "       -50.14935 +0.j, -50.223156+0.j, -50.08323 +0.j, -49.9121  +0.j,\n",
       "       -49.927025+0.j, -49.977554+0.j, -50.000683+0.j, -50.02678 +0.j,\n",
       "       -49.99035 +0.j, -50.05593 +0.j, -50.18516 +0.j, -50.194958+0.j,\n",
       "       -50.0985  +0.j, -50.270607+0.j, -51.166718+0.j, -52.458797+0.j,\n",
       "       -53.457336+0.j, -53.803814+0.j, -53.039104+0.j, -51.478683+0.j,\n",
       "       -50.43488 +0.j, -50.105305+0.j, -50.081722+0.j, -50.261467+0.j,\n",
       "       -50.478546+0.j, -50.405613+0.j, -50.14583 +0.j, -50.049034+0.j,\n",
       "       -50.046894+0.j, -50.044605+0.j, -50.08381 +0.j, -50.07631 +0.j,\n",
       "       -49.990707+0.j, -49.948753+0.j, -49.99457 +0.j, -49.972374+0.j,\n",
       "       -49.971558+0.j, -50.059883+0.j, -50.0854  +0.j, -50.10138 +0.j,\n",
       "       -50.032272+0.j, -49.890446+0.j, -49.836796+0.j, -50.162678+0.j,\n",
       "       -51.04354 +0.j, -51.646267+0.j, -51.54327 +0.j, -52.19123 +0.j,\n",
       "       -53.59405 +0.j, -55.26606 +0.j, -57.03717 +0.j, -57.85386 +0.j,\n",
       "       -57.780655+0.j, -56.779263+0.j, -55.61952 +0.j, -54.491264+0.j,\n",
       "       -52.862865+0.j, -51.60523 +0.j, -51.03556 +0.j, -50.6783  +0.j,\n",
       "       -50.47782 +0.j, -50.307182+0.j, -50.29839 +0.j, -50.37781 +0.j,\n",
       "       -50.368908+0.j, -50.45259 +0.j, -50.707817+0.j, -50.87511 +0.j,\n",
       "       -50.967674+0.j, -51.470615+0.j, -51.95108 +0.j, -52.198982+0.j,\n",
       "       -52.074986+0.j, -51.639114+0.j, -51.189743+0.j, -50.509   +0.j,\n",
       "       -50.038795+0.j, -50.051525+0.j, -50.08831 +0.j, -50.062355+0.j,\n",
       "       -50.018623+0.j, -49.95931 +0.j, -49.945347+0.j, -49.9602  +0.j,\n",
       "       -49.942875+0.j, -49.963177+0.j, -49.99483 +0.j, -50.027283+0.j,\n",
       "       -50.007957+0.j, -49.965298+0.j, -49.936306+0.j, -49.934566+0.j,\n",
       "       -49.96991 +0.j, -49.984722+0.j, -50.04186 +0.j, -50.074818+0.j,\n",
       "       -50.145733+0.j, -50.49604 +0.j, -50.87947 +0.j, -50.765507+0.j,\n",
       "       -50.49024 +0.j, -50.456364+0.j, -50.23229 +0.j, -49.985386+0.j,\n",
       "       -49.948174+0.j, -49.71843 +0.j, -46.40823 +0.j, -40.480293+0.j,\n",
       "       -39.966595+0.j, -44.8994  +0.j, -48.61576 +0.j, -49.83666 +0.j,\n",
       "       -50.002472+0.j, -49.99108 +0.j, -49.98934 +0.j, -50.009773+0.j,\n",
       "       -49.993835+0.j, -50.01705 +0.j, -50.068073+0.j, -50.29762 +0.j,\n",
       "       -51.02808 +0.j, -50.9639  +0.j, -50.1122  +0.j, -49.8411  +0.j,\n",
       "       -49.921165+0.j, -49.995888+0.j, -49.994194+0.j, -50.005386+0.j,\n",
       "       -50.10333 +0.j, -50.290413+0.j, -50.8442  +0.j, -51.66261 +0.j,\n",
       "       -51.90762 +0.j, -51.56445 +0.j, -50.77709 +0.j, -50.097645+0.j,\n",
       "       -49.97546 +0.j, -49.94917 +0.j, -49.899178+0.j, -50.02551 +0.j,\n",
       "       -50.111107+0.j, -50.032562+0.j, -49.92159 +0.j, -49.876022+0.j,\n",
       "       -49.93855 +0.j, -49.969154+0.j, -49.934082+0.j, -49.899055+0.j,\n",
       "       -49.9463  +0.j, -50.02588 +0.j, -50.104996+0.j, -50.03664 +0.j,\n",
       "       -50.089943+0.j, -50.50094 +0.j, -50.461235+0.j, -50.174507+0.j,\n",
       "       -50.064857+0.j, -49.995052+0.j, -50.170456+0.j, -50.32277 +0.j,\n",
       "       -50.48725 +0.j, -51.288517+0.j, -52.4123  +0.j, -52.76687 +0.j,\n",
       "       -52.36232 +0.j, -52.403595+0.j, -53.298584+0.j, -53.836037+0.j,\n",
       "       -53.421593+0.j, -52.78956 +0.j, -52.449677+0.j, -52.10644 +0.j,\n",
       "       -51.747627+0.j, -51.604973+0.j, -51.62    +0.j, -51.31706 +0.j,\n",
       "       -50.6912  +0.j, -50.273438+0.j, -50.086273+0.j, -50.00932 +0.j,\n",
       "       -49.964172+0.j, -49.987675+0.j, -49.99748 +0.j, -49.98278 +0.j,\n",
       "       -50.00089 +0.j, -50.015053+0.j, -50.010586+0.j, -50.01015 +0.j,\n",
       "       -50.006805+0.j, -50.012115+0.j, -50.022358+0.j, -50.013016+0.j,\n",
       "       -50.009068+0.j, -50.015133+0.j, -50.0189  +0.j, -50.017555+0.j,\n",
       "       -50.009872+0.j, -50.013294+0.j, -50.01621 +0.j, -50.002903+0.j,\n",
       "       -50.00459 +0.j, -50.002026+0.j, -50.00049 +0.j, -50.011833+0.j,\n",
       "       -50.0184  +0.j, -50.017487+0.j, -50.00763 +0.j, -50.01043 +0.j,\n",
       "       -50.02096 +0.j, -50.018875+0.j, -50.005157+0.j, -49.997364+0.j,\n",
       "       -50.002815+0.j, -50.013264+0.j, -50.014095+0.j, -50.00918 +0.j,\n",
       "       -50.00913 +0.j, -50.006207+0.j, -50.00713 +0.j, -50.0108  +0.j,\n",
       "       -50.015903+0.j, -50.014145+0.j, -50.00962 +0.j, -50.00717 +0.j,\n",
       "       -50.013355+0.j, -49.90991 +0.j], dtype=complex64)"
      ]
     },
     "execution_count": 60,
     "metadata": {},
     "output_type": "execute_result"
    }
   ],
   "source": [
    "#allow_clipping_in_normalization\n",
    "#symmetric_mels 라면\n",
    "((((np.clip(D, -4.,4.) + 4.) * 100 / (2 * 4.)) - 100))"
   ]
  },
  {
   "cell_type": "code",
   "execution_count": 61,
   "metadata": {
    "scrolled": true
   },
   "outputs": [
    {
     "data": {
      "text/plain": [
       "array([[ -94.28892 +0.0000000e+00j,  -93.901405+0.0000000e+00j,\n",
       "         -93.80252 +0.0000000e+00j, ..., -100.      +0.0000000e+00j,\n",
       "        -100.      +0.0000000e+00j,  -99.81981 +0.0000000e+00j],\n",
       "       [-100.      +0.0000000e+00j, -100.      +0.0000000e+00j,\n",
       "        -100.      +0.0000000e+00j, ...,  -99.98457 +6.8515912e-03j,\n",
       "         -99.969505-5.5518830e-03j, -100.      +0.0000000e+00j],\n",
       "       [ -97.77495 +5.8956114e-16j,  -97.08311 -3.4292546e-01j,\n",
       "         -97.37198 +2.1212284e-01j, ..., -100.      +0.0000000e+00j,\n",
       "        -100.      +0.0000000e+00j, -100.      +0.0000000e+00j],\n",
       "       ...,\n",
       "       [ -93.31499 -1.1153992e-15j,  -99.606285+3.3190615e+00j,\n",
       "        -100.      +0.0000000e+00j, ...,  -99.99993 -4.1060146e-05j,\n",
       "        -100.      +0.0000000e+00j, -100.      +0.0000000e+00j],\n",
       "       [-100.      +0.0000000e+00j,  -97.78347 -2.4972162e+00j,\n",
       "         -99.996796-1.5544059e-03j, ..., -100.      +0.0000000e+00j,\n",
       "         -99.99998 -5.4831838e-04j,  -99.98628 +1.1344699e-02j],\n",
       "       [ -93.321144+0.0000000e+00j, -100.      +0.0000000e+00j,\n",
       "        -100.      +0.0000000e+00j, ...,  -99.99996 +0.0000000e+00j,\n",
       "         -99.99947 +0.0000000e+00j, -100.      +0.0000000e+00j]],\n",
       "      dtype=complex64)"
      ]
     },
     "execution_count": 61,
     "metadata": {},
     "output_type": "execute_result"
    }
   ],
   "source": [
    "#not symmetric_mels라면\n",
    "((np.clip(D, 0, 4.) * 100 / 4.) - 100)"
   ]
  },
  {
   "cell_type": "code",
   "execution_count": null,
   "metadata": {},
   "outputs": [],
   "source": [
    "#not allow_clipping_in_normalization\n",
    "#symmetric이라면\n",
    "#(((D + hparams.max_abs_value) * -hparams.min_level_db / (2 * hparams.max_abs_value)) + hparams.min_level_db)\n",
    "(((D + 4.) * 100 / (2 * 4.)) - 100)\n",
    "\n",
    "#not symmetric이라면\n",
    "#((D * -hparams.min_level_db / hparams.max_abs_value) + hparams.min_level_db)\n",
    "((D * 100 / 4.) - 100)"
   ]
  },
  {
   "cell_type": "code",
   "execution_count": null,
   "metadata": {},
   "outputs": [],
   "source": [
    "#if signal_normalization = True\n",
    "#Whether to normalize mel spectrograms to some predefined range (following below parameters)\n",
    "D = _denormalize(linear_spectrogram)"
   ]
  },
  {
   "cell_type": "markdown",
   "metadata": {},
   "source": [
    "### inv_mel_spectrogram(mel_spectrogram, hparams)"
   ]
  },
  {
   "cell_type": "markdown",
   "metadata": {},
   "source": [
    "Converts mel spectrogram to waveform using librosa"
   ]
  },
  {
   "cell_type": "code",
   "execution_count": 67,
   "metadata": {},
   "outputs": [],
   "source": [
    "def inv_mel_spectrogram(mel_spectrogram, hparams):\n",
    "    '''Converts mel spectrogram to waveform using librosa'''\n",
    "    if hparams.signal_normalization:\n",
    "        D = _denormalize(mel_spectrogram, hparams)\n",
    "    else:\n",
    "        D = mel_spectrogram\n",
    "\n",
    "    S = _mel_to_linear(_db_to_amp(D + hparams.ref_level_db), hparams)  # Convert back to linear\n",
    "\n",
    "    if hparams.use_lws:\n",
    "        processor = _lws_processor(hparams)\n",
    "        D = processor.run_lws(S.astype(np.float64).T ** hparams.power)\n",
    "        y = processor.istft(D).astype(np.float32)\n",
    "        return inv_preemphasis(y, hparams.preemphasis, hparams.preemphasize)\n",
    "    else:\n",
    "        return inv_preemphasis(_griffin_lim(S ** hparams.power, hparams), hparams.preemphasis, hparams.preemphasize)"
   ]
  },
  {
   "cell_type": "code",
   "execution_count": null,
   "metadata": {},
   "outputs": [],
   "source": [
    "#signal_normalization == True 경우 \n",
    "# Whether to normalize mel spectrograms to some predefined range (following below parameters)\n",
    "D = _denormalize(mel_spectrogram)\n",
    "#signal_normalization이 아닌경우\n",
    "D = mel_spectrogram"
   ]
  },
  {
   "cell_type": "code",
   "execution_count": null,
   "metadata": {},
   "outputs": [],
   "source": [
    "S = _mel_to_linear(_db_to_amp(D+hparams.ref_level_db),hparams) ## Convert back to linear\n"
   ]
  },
  {
   "cell_type": "code",
   "execution_count": null,
   "metadata": {},
   "outputs": [],
   "source": [
    "use_lws=False, #Only used to set as True if using WaveNet, no difference in performance is observed in either cases.\n",
    "\n",
    "if use_lws:\n",
    "    processor = "
   ]
  },
  {
   "cell_type": "markdown",
   "metadata": {},
   "source": [
    "#### _mel_to_linear"
   ]
  },
  {
   "cell_type": "markdown",
   "metadata": {},
   "source": [
    "np.linalg.pinv : Calculate the generalized inverse of a matrix using its singular-value decomposition (SVD) and including all large singular values."
   ]
  },
  {
   "cell_type": "code",
   "execution_count": null,
   "metadata": {},
   "outputs": [],
   "source": [
    "_inv_mel_basis=None\n",
    "def _mel_to_linear(mel_spectrogram):\n",
    "\tglobal _inv_mel_basis\n",
    "\tif _inv_mel_basis is None:\n",
    "\t\t_inv_mel_basis = np.linalg.pinv(_build_mel_basis())\n",
    "\treturn np.maximum(1e-10, np.dot(_inv_mel_basis, mel_spectrogram))"
   ]
  },
  {
   "cell_type": "code",
   "execution_count": null,
   "metadata": {},
   "outputs": [],
   "source": [
    "#def _build_mel_basis(hparams):\n",
    "#    assert hparams.fmax <= hparams.sample_rate // 2\n",
    "#    return librosa.filters.mel(hparams.sample_rate, hparams.n_fft, n_mels=hparams.num_mels,fmin=hparams.fmin, fmax=hparams.fmax)\n",
    "#n_fft(2048) : Extra window size is filled with 0 paddings to match this parameter\n",
    "\n",
    "def _build_mel_basis():\n",
    "    assert 7600 <= 22050//2\n",
    "    return librosa.filters.mel(22050,2048,n_mels= 80, fmin=55,fmax=7600)"
   ]
  },
  {
   "cell_type": "markdown",
   "metadata": {},
   "source": [
    "#### _lws_processor()"
   ]
  },
  {
   "cell_type": "code",
   "execution_count": 66,
   "metadata": {
    "scrolled": true
   },
   "outputs": [
    {
     "ename": "ValueError",
     "evalue": "LWS requires that the window shift divides the window length.",
     "output_type": "error",
     "traceback": [
      "\u001b[1;31m---------------------------------------------------------------------------\u001b[0m",
      "\u001b[1;31mValueError\u001b[0m                                Traceback (most recent call last)",
      "\u001b[1;32m<ipython-input-66-089bf3ec2927>\u001b[0m in \u001b[0;36m<module>\u001b[1;34m()\u001b[0m\n\u001b[0;32m      6\u001b[0m \u001b[1;31m#lws.lws : Fast spectrogram phase recovery using Local Weighted Sums (LWS)\u001b[0m\u001b[1;33m\u001b[0m\u001b[1;33m\u001b[0m\u001b[0m\n\u001b[0;32m      7\u001b[0m \u001b[1;33m\u001b[0m\u001b[0m\n\u001b[1;32m----> 8\u001b[1;33m \u001b[0m_lws_processor\u001b[0m\u001b[1;33m(\u001b[0m\u001b[1;33m)\u001b[0m\u001b[1;33m\u001b[0m\u001b[0m\n\u001b[0m",
      "\u001b[1;32m<ipython-input-66-089bf3ec2927>\u001b[0m in \u001b[0;36m_lws_processor\u001b[1;34m()\u001b[0m\n\u001b[0;32m      2\u001b[0m     \u001b[1;32mimport\u001b[0m \u001b[0mlws\u001b[0m\u001b[1;33m\u001b[0m\u001b[0m\n\u001b[0;32m      3\u001b[0m     \u001b[1;31m#return lws.lws(hparams.n_fft, get_hop_size(hparams), fftsize=hparams.win_size, mode=\"speech\")\u001b[0m\u001b[1;33m\u001b[0m\u001b[1;33m\u001b[0m\u001b[0m\n\u001b[1;32m----> 4\u001b[1;33m     \u001b[1;32mreturn\u001b[0m \u001b[0mlws\u001b[0m\u001b[1;33m.\u001b[0m\u001b[0mlws\u001b[0m\u001b[1;33m(\u001b[0m\u001b[1;36m2048\u001b[0m\u001b[1;33m,\u001b[0m\u001b[0mget_hop_size\u001b[0m\u001b[1;33m(\u001b[0m\u001b[1;33m)\u001b[0m\u001b[1;33m,\u001b[0m \u001b[0mfftsize\u001b[0m\u001b[1;33m=\u001b[0m\u001b[1;36m1100\u001b[0m\u001b[1;33m,\u001b[0m \u001b[0mmode\u001b[0m\u001b[1;33m=\u001b[0m\u001b[1;34m\"speech\"\u001b[0m\u001b[1;33m)\u001b[0m\u001b[1;33m\u001b[0m\u001b[0m\n\u001b[0m\u001b[0;32m      5\u001b[0m \u001b[1;31m#win_size : For 22050Hz, 1100 ~= 50 ms (If None, win_size = n_fft) (0.05 * sample_rate)\u001b[0m\u001b[1;33m\u001b[0m\u001b[1;33m\u001b[0m\u001b[0m\n\u001b[0;32m      6\u001b[0m \u001b[1;31m#lws.lws : Fast spectrogram phase recovery using Local Weighted Sums (LWS)\u001b[0m\u001b[1;33m\u001b[0m\u001b[1;33m\u001b[0m\u001b[0m\n",
      "\u001b[1;32mlws.pyx\u001b[0m in \u001b[0;36mlws.lws.__init__ (lws.bycython.cpp:12738)\u001b[1;34m()\u001b[0m\n",
      "\u001b[1;31mValueError\u001b[0m: LWS requires that the window shift divides the window length."
     ]
    }
   ],
   "source": [
    "def _lws_processor(): #default 코드에는 사용되지 않음\n",
    "    import lws\n",
    "    #return lws.lws(hparams.n_fft, get_hop_size(hparams), fftsize=hparams.win_size, mode=\"speech\")\n",
    "    return lws.lws(2048,get_hop_size(), fftsize=1100, mode=\"speech\")\n",
    "#win_size : For 22050Hz, 1100 ~= 50 ms (If None, win_size = n_fft) (0.05 * sample_rate)\n",
    "#lws.lws : Fast spectrogram phase recovery using Local Weighted Sums (LWS)\n",
    "\n",
    "_lws_processor()\n",
    "#Only used to set as True if using WaveNet, no difference in performance is observed in either cases."
   ]
  },
  {
   "cell_type": "code",
   "execution_count": 81,
   "metadata": {},
   "outputs": [],
   "source": [
    "def melspectrogram(wav): #(audio.py)\n",
    "    D = _stft(preemphasis(wav,0.97,True)) #(1025, 802)\n",
    "    S = _amp_to_db(_linear_to_mel(np.abs(D))) - 20 #(80,802)\n",
    "melspectrogram(wav)"
   ]
  },
  {
   "cell_type": "code",
   "execution_count": 82,
   "metadata": {},
   "outputs": [
    {
     "ename": "AttributeError",
     "evalue": "'NoneType' object has no attribute 'astype'",
     "output_type": "error",
     "traceback": [
      "\u001b[1;31m---------------------------------------------------------------------------\u001b[0m",
      "\u001b[1;31mAttributeError\u001b[0m                            Traceback (most recent call last)",
      "\u001b[1;32m<ipython-input-82-2b5a2c533f8b>\u001b[0m in \u001b[0;36m<module>\u001b[1;34m()\u001b[0m\n\u001b[1;32m----> 1\u001b[1;33m \u001b[0mmel_spectrogram\u001b[0m \u001b[1;33m=\u001b[0m \u001b[0mmelspectrogram\u001b[0m\u001b[1;33m(\u001b[0m\u001b[0mwav\u001b[0m\u001b[1;33m)\u001b[0m\u001b[1;33m.\u001b[0m\u001b[0mastype\u001b[0m\u001b[1;33m(\u001b[0m\u001b[0mnp\u001b[0m\u001b[1;33m.\u001b[0m\u001b[0mfloat32\u001b[0m\u001b[1;33m)\u001b[0m\u001b[1;33m\u001b[0m\u001b[0m\n\u001b[0m\u001b[0;32m      2\u001b[0m \u001b[0mmel_spectrogram\u001b[0m\u001b[1;33m.\u001b[0m\u001b[0mshape\u001b[0m\u001b[1;33m[\u001b[0m\u001b[1;36m1\u001b[0m\u001b[1;33m]\u001b[0m\u001b[1;33m\u001b[0m\u001b[0m\n",
      "\u001b[1;31mAttributeError\u001b[0m: 'NoneType' object has no attribute 'astype'"
     ]
    }
   ],
   "source": [
    "mel_spectrogram = melspectrogram(wav).astype(np.float32)\n",
    "mel_spectrogram.shape[1]"
   ]
  },
  {
   "cell_type": "code",
   "execution_count": null,
   "metadata": {},
   "outputs": [],
   "source": []
  }
 ],
 "metadata": {
  "kernelspec": {
   "display_name": "Python 3",
   "language": "python",
   "name": "python3"
  },
  "language_info": {
   "codemirror_mode": {
    "name": "ipython",
    "version": 3
   },
   "file_extension": ".py",
   "mimetype": "text/x-python",
   "name": "python",
   "nbconvert_exporter": "python",
   "pygments_lexer": "ipython3",
   "version": "3.6.5"
  }
 },
 "nbformat": 4,
 "nbformat_minor": 2
}
